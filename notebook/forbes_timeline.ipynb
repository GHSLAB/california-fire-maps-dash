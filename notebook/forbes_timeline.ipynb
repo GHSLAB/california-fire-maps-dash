{
 "cells": [
  {
   "cell_type": "code",
   "execution_count": 19,
   "metadata": {},
   "outputs": [
    {
     "name": "stdout",
     "output_type": "stream",
     "text": [
      "Timeline 内容已保存为 timeline_elements.json\n"
     ]
    }
   ],
   "source": [
    "import requests\n",
    "from bs4 import BeautifulSoup\n",
    "import json\n",
    "\n",
    "# 目标 URL\n",
    "url = \"https://www.forbes.com/sites/antoniopequenoiv/2025/01/12/california-wildfire-live-updates-death-toll-hits-24-in-palisades-eaton-fires-as-heavy-wind-expected-in-coming-days/\"\n",
    "\n",
    "# 发送 HTTP 请求获取网页内容\n",
    "headers = {\n",
    "    \"User-Agent\": \"Mozilla/5.0 (Windows NT 10.0; Win64; x64) AppleWebKit/537.36 (KHTML, like Gecko) Chrome/91.0.4472.124 Safari/537.36\"\n",
    "}\n",
    "response = requests.get(url, headers=headers)\n",
    "\n",
    "# 检查请求是否成功\n",
    "if response.status_code != 200:\n",
    "    print(f\"Failed to retrieve the page. Status code: {response.status_code}\")\n",
    "    exit()\n",
    "\n",
    "# 解析 HTML 内容\n",
    "soup = BeautifulSoup(response.text, \"html.parser\")\n",
    "\n",
    "# 提取所有 timeline 元素\n",
    "timeline_elements = soup.find_all(\"div\", class_=\"timeline-element\")\n",
    "\n",
    "# 整理 timeline 内容\n",
    "timeline_data = []\n",
    "for element in timeline_elements:\n",
    "    # 提取时间\n",
    "    time_tag = element.find(\"span\", class_=\"timeline-timestamp\")\n",
    "    time_text = time_tag.text.strip() if time_tag else \"Unknown\"\n",
    "\n",
    "    # 提取内容\n",
    "    content_tag = element.find(\"p\")\n",
    "    if content_tag:\n",
    "        content_text = content_tag.text.strip()\n",
    "        # 如果 content_text 开头包含 time_text，则去掉开头的 time_text\n",
    "        if content_text.startswith(time_text):\n",
    "            content_text = content_text[len(time_text) :].strip()\n",
    "    else:\n",
    "        content_text = \"No content\"\n",
    "\n",
    "    # 添加到结果列表\n",
    "    timeline_data.append({\"time\": time_text, \"content\": content_text})\n",
    "\n",
    "# 保存为 JSON 文件\n",
    "with open(\"timeline_elements.json\", \"w\", encoding=\"utf-8\") as f:\n",
    "    json.dump(timeline_data, f, ensure_ascii=False, indent=4)\n",
    "\n",
    "print(\"Timeline 内容已保存为 timeline_elements.json\")"
   ]
  }
 ],
 "metadata": {
  "kernelspec": {
   "display_name": "dash",
   "language": "python",
   "name": "python3"
  },
  "language_info": {
   "codemirror_mode": {
    "name": "ipython",
    "version": 3
   },
   "file_extension": ".py",
   "mimetype": "text/x-python",
   "name": "python",
   "nbconvert_exporter": "python",
   "pygments_lexer": "ipython3",
   "version": "3.9.19"
  }
 },
 "nbformat": 4,
 "nbformat_minor": 2
}
