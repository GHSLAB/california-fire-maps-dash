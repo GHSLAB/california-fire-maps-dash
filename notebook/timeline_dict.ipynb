{
 "cells": [
  {
   "cell_type": "code",
   "execution_count": 1,
   "metadata": {},
   "outputs": [],
   "source": [
    "import json\n",
    "\n",
    "data = [\n",
    "    {\n",
    "        \"time\": \"周三，下午2:30\",\n",
    "        \"content\": \"圣莫尼卡扩大了疏散命令，建议所有蒙大拿大道以北、从海滩到第11街的居民立即撤离，南部和东部地区仍处于疏散警告状态。\",\n",
    "    },\n",
    "    {\n",
    "        \"time\": \"周三，下午1:39\",\n",
    "        \"content\": \"PowerOutage.us报告称，洛杉矶县近100万电力用户断电，随后表示南加州爱迪生公司（该县主要电力供应商）的停电管理系统已离线。\",\n",
    "    },\n",
    "    {\n",
    "        \"time\": \"周三，下午1:25\",\n",
    "        \"content\": \"根据加州消防局的数据，洛杉矶太平洋帕利塞兹（一个富裕的沿海社区）的帕利塞兹山火已扩大至15,832英亩，成为截至周三下午洛杉矶县四场火灾中最大的一场。\",\n",
    "    },\n",
    "]"
   ]
  },
  {
   "cell_type": "code",
   "execution_count": 8,
   "metadata": {},
   "outputs": [
    {
     "name": "stdout",
     "output_type": "stream",
     "text": [
      "[{'content': ['周三，下午2:30', '圣莫尼卡扩大了疏散命令，建议所有蒙大拿大道以北、从海滩到第11街的居民立即撤离，南部和东部地区仍处于疏散警告状态。']}, {'content': ['周三，下午1:39', 'PowerOutage.us报告称，洛杉矶县近100万电力用户断电，随后表示南加州爱迪生公司（该县主要电力供应商）的停电管理系统已离线。']}, {'content': ['周三，下午1:25', '根据加州消防局的数据，洛杉矶太平洋帕利塞兹（一个富裕的沿海社区）的帕利塞兹山火已扩大至15,832英亩，成为截至周三下午洛杉矶县四场火灾中最大的一场。']}]\n"
     ]
    }
   ],
   "source": [
    "new_data = []\n",
    "for i in data:\n",
    "    new_data.append({'content':[i['time'],i['content']]})\n",
    "\n",
    "print(new_data)"
   ]
  },
  {
   "cell_type": "code",
   "execution_count": null,
   "metadata": {},
   "outputs": [],
   "source": []
  }
 ],
 "metadata": {
  "kernelspec": {
   "display_name": "dash",
   "language": "python",
   "name": "python3"
  },
  "language_info": {
   "codemirror_mode": {
    "name": "ipython",
    "version": 3
   },
   "file_extension": ".py",
   "mimetype": "text/x-python",
   "name": "python",
   "nbconvert_exporter": "python",
   "pygments_lexer": "ipython3",
   "version": "3.9.19"
  }
 },
 "nbformat": 4,
 "nbformat_minor": 2
}
