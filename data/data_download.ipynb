{
 "cells": [
  {
   "cell_type": "code",
   "execution_count": 1,
   "metadata": {},
   "outputs": [
    {
     "name": "stdout",
     "output_type": "stream",
     "text": [
      "save update time\n",
      "已保存文件: 2025-01-16_10-33-29\\arcgis\\aircraftfeed-gj.json\n",
      "已保存文件: 2025-01-16_10-33-29\\arcgis\\incidents-gj.json\n",
      "已保存文件: 2025-01-16_10-33-29\\arcgis\\alertCACameras-gj.json\n",
      "已保存文件: 2025-01-16_10-33-29\\arcgis\\wind-raws-gj.json\n",
      "已保存文件: 2025-01-16_10-33-29\\arcgis\\evacuations-gj.json\n",
      "已保存文件: 2025-01-16_10-33-29\\cbs\\latest_cali_evac.geojson\n",
      "已保存文件: 2025-01-16_10-33-29\\cbs\\latest_cali_fires.geojson\n"
     ]
    }
   ],
   "source": [
    "import requests\n",
    "from urllib.parse import urlparse\n",
    "from datetime import datetime\n",
    "import os\n",
    "import shutil\n",
    "\n",
    "# 定义URL列表\n",
    "url_lists = {\n",
    "    \"arcgis\": [\n",
    "        \"https://rdipowerplatformfd-e5hhgqaahef7fbdr.a02.azurefd.net/aircraft/aircraftfeed-gj.json\",\n",
    "        \"https://rdipowerplatformfd-e5hhgqaahef7fbdr.a02.azurefd.net/incidents/incidents-gj.json\",\n",
    "        \"https://rdipowerplatformfd-e5hhgqaahef7fbdr.a02.azurefd.net/cameras/alertCACameras-gj.json\",\n",
    "        \"https://rdipowerplatformfd-e5hhgqaahef7fbdr.a02.azurefd.net/weather/wind-raws-gj.json\",\n",
    "        \"https://rdipowerplatformfd-e5hhgqaahef7fbdr.a02.azurefd.net/evacuations/evacuations-gj.json\",\n",
    "    ],\n",
    "    \"cbs\": [\n",
    "        \"https://raw.githubusercontent.com/cbs-news-data/cali_fires/refs/heads/main/data/latest_cali_evac.geojson\",\n",
    "        \"https://raw.githubusercontent.com/cbs-news-data/cali_fires/refs/heads/main/data/latest_cali_fires.geojson\",\n",
    "    ],\n",
    "}\n",
    "\n",
    "\n",
    "def save_files_from_urls(url_lists: dict) -> None:\n",
    "    \"\"\"\n",
    "    从URL列表中提取文件名，并将文件保存到对应列表名称的文件夹内。\n",
    "\n",
    "    参数:\n",
    "        url_lists (dict): 包含URL列表的字典，键为文件夹名称，值为URL列表。\n",
    "\n",
    "    返回:\n",
    "        None\n",
    "    \"\"\"\n",
    "\n",
    "    current_time = datetime.now().strftime(\"%Y-%m-%d_%H-%M-%S\")\n",
    "\n",
    "    # 创建以当前时间命名的文件夹\n",
    "    os.makedirs(current_time, exist_ok=True)\n",
    "\n",
    "    # 在文件夹中创建一个名为update_time.txt的文件，并写入当前的UTC时间\n",
    "    with open(f\"./{current_time}/update_time.txt\", \"w\") as f:\n",
    "        f.write(current_time)\n",
    "        print(\"save update time\")\n",
    "\n",
    "    # 遍历URL列表并下载文件\n",
    "    for folder_name, url_list in url_lists.items():\n",
    "        # 创建二级文件夹\n",
    "        subfolder_path = os.path.join(current_time, folder_name)\n",
    "        os.makedirs(subfolder_path, exist_ok=True)\n",
    "\n",
    "        for url in url_list:\n",
    "            parsed_url = urlparse(url)\n",
    "            filename = os.path.basename(parsed_url.path)\n",
    "            file_path = os.path.join(subfolder_path, filename)\n",
    "\n",
    "            # 下载文件\n",
    "            response = requests.get(url)\n",
    "            with open(file_path, \"wb\") as f:\n",
    "                f.write(response.content)\n",
    "\n",
    "            print(f\"已保存文件: {file_path}\")\n",
    "\n",
    "    # 将current_time文件夹复制一份为latest文件夹，覆盖原文件\n",
    "    shutil.rmtree(\"latest\", ignore_errors=True)  # 删除原有的latest文件夹（如果存在）\n",
    "    shutil.copytree(current_time, \"latest\")  # 复制current_time文件夹到latest\n",
    "\n",
    "\n",
    "# 保存文件\n",
    "save_files_from_urls(url_lists)"
   ]
  }
 ],
 "metadata": {
  "kernelspec": {
   "display_name": "dash",
   "language": "python",
   "name": "python3"
  },
  "language_info": {
   "codemirror_mode": {
    "name": "ipython",
    "version": 3
   },
   "file_extension": ".py",
   "mimetype": "text/x-python",
   "name": "python",
   "nbconvert_exporter": "python",
   "pygments_lexer": "ipython3",
   "version": "3.9.19"
  }
 },
 "nbformat": 4,
 "nbformat_minor": 2
}
